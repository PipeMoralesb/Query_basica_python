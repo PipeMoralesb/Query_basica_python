{
  "nbformat": 4,
  "nbformat_minor": 0,
  "metadata": {
    "colab": {
      "provenance": []
    },
    "kernelspec": {
      "name": "python3",
      "display_name": "Python 3"
    },
    "language_info": {
      "name": "python"
    }
  },
  "cells": [
    {
      "cell_type": "code",
      "execution_count": 5,
      "metadata": {
        "id": "ltjmQ7NXFlUk"
      },
      "outputs": [],
      "source": [
        "# Import Library\n",
        "import sqlite3\n",
        "import pandas as pd"
      ]
    },
    {
      "cell_type": "code",
      "source": [
        " # Database in memory\n",
        "conn=sqlite3.connect(\":memory:\")\n",
        "# Cursor for commands SQL\n",
        "cursor = conn.cursor()"
      ],
      "metadata": {
        "id": "T173urCDGj1l"
      },
      "execution_count": 10,
      "outputs": []
    },
    {
      "cell_type": "code",
      "source": [
        "# Create TABLE called \"empleados\" with colums; id, nombre, edad, salario\n",
        "cursor.execute(\n",
        "    \"\"\"CREATE TABLE empleados (\n",
        "        id INTEGER PRIMARY KEY,\n",
        "        nombre TEXT NOT NULL,\n",
        "        edad INTEGER NOT NULL,\n",
        "        salario INTEGER NOT NULL\n",
        "    )\"\"\"\n",
        ")"
      ],
      "metadata": {
        "colab": {
          "base_uri": "https://localhost:8080/"
        },
        "id": "ZQPjO31QJ5I0",
        "outputId": "40da51d9-d94c-46c3-8166-e9202a566f9d"
      },
      "execution_count": 20,
      "outputs": [
        {
          "output_type": "execute_result",
          "data": {
            "text/plain": [
              "<sqlite3.Cursor at 0x7993b71a48c0>"
            ]
          },
          "metadata": {},
          "execution_count": 20
        }
      ]
    },
    {
      "cell_type": "code",
      "source": [
        "# Create a list with data of employes (id, nombre, etc)\n",
        "empleados = (\n",
        "    (1, \"ana\", 28, 45000),\n",
        "    (2, \"luis\", 35, 52000),\n",
        "    (3, \"sofia\", 40, 60000)\n",
        ")"
      ],
      "metadata": {
        "id": "85a7NtnbKMha"
      },
      "execution_count": 21,
      "outputs": []
    },
    {
      "cell_type": "code",
      "source": [
        "# Insert data in TABLE\n",
        "cursor.executemany(\"INSERT INTO empleados VALUES (?, ?, ?, ?)\", empleados)\n",
        "# Save Changes\n",
        "conn.commit()\n"
      ],
      "metadata": {
        "id": "TyJnBKNgLTp_"
      },
      "execution_count": null,
      "outputs": []
    },
    {
      "cell_type": "code",
      "source": [
        "# Query empleados with salario > 50000 with SQL\n",
        "consulta = pd.read_sql_query(\"SELECT * FROM empleados WHERE salario > 50000\", conn)\n",
        "\n",
        "# Print\n",
        "print(consulta)"
      ],
      "metadata": {
        "colab": {
          "base_uri": "https://localhost:8080/"
        },
        "id": "s58rUWeyMliA",
        "outputId": "4aaa1364-a350-42e4-fa74-efbeadc2b0f3"
      },
      "execution_count": 37,
      "outputs": [
        {
          "output_type": "stream",
          "name": "stdout",
          "text": [
            "   id nombre  edad  salario\n",
            "0   2   luis    35    52000\n",
            "1   3  sofia    40    60000\n"
          ]
        }
      ]
    }
  ]
}